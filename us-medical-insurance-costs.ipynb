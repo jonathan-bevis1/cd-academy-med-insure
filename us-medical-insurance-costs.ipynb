{
 "cells": [
  {
   "cell_type": "markdown",
   "metadata": {},
   "source": [
    "# U.S. Medical Insurance Costs"
   ]
  },
  {
   "cell_type": "markdown",
   "metadata": {},
   "source": [
    "<h2>Importing data and cleaning number values as strings to integers and floats</h2>"
   ]
  },
  {
   "cell_type": "code",
   "execution_count": 9,
   "metadata": {},
   "outputs": [],
   "source": [
    "import csv\n",
    "with open('insurance.csv') as insurance_all_dict:\n",
    "    insurance_all = {}\n",
    "    ages_all_strings = []\n",
    "    ages_all = []\n",
    "    sexes_all = []\n",
    "    bmis_all = []\n",
    "    children_all_strings = []\n",
    "    children_all = []\n",
    "    smoker_all = []\n",
    "    regions_all = []\n",
    "    charges_all_strings = []\n",
    "    charges_all = []\n",
    "    insurance_all_reader = csv.DictReader(insurance_all_dict)\n",
    "    \n",
    "#Creating varibles into lists \n",
    "    for row in insurance_all_reader:\n",
    "        ages_all_strings.append(row['age'])\n",
    "        sexes_all.append(row['sex'])\n",
    "        bmis_all.append(row['bmi'])\n",
    "        children_all_strings.append(row['children'])\n",
    "        smoker_all.append(row['smoker'])\n",
    "        regions_all.append(row['region'])\n",
    "        charges_all_strings.append(row['charges'])\n",
    "\n",
    "#Changing Ages and Children to ints and charges_all_strings to floats\n",
    "    for age in ages_all_strings:\n",
    "        ages_all.append(int(age))\n",
    "    for child in children_all_strings:\n",
    "        children_all.append(int(child))\n",
    "    for charge in charges_all_strings:\n",
    "        charges_all.append(float(charge))\n",
    "    "
   ]
  },
  {
   "cell_type": "markdown",
   "metadata": {},
   "source": [
    "<h2>Generating total n value as varible and totals by gender and smoker status</h2>"
   ]
  },
  {
   "cell_type": "code",
   "execution_count": 2,
   "metadata": {},
   "outputs": [
    {
     "name": "stdout",
     "output_type": "stream",
     "text": [
      "Total n value: 1338\n",
      "Total Males: 676 Total Females:662\n",
      "Total smokers: 274 Total non-smokers: 1064\n"
     ]
    }
   ],
   "source": [
    "#Creating varible with total n value for dataset\n",
    "total_respondents = len(ages_all)\n",
    "print('Total n value: '+str(total_respondents))\n",
    "    \n",
    "#Translating sexes into nominal varible where Female is 0 and Male is 1 and giving total counts\n",
    "sexes_all_recode = []\n",
    "male = 0\n",
    "female = 0\n",
    "\n",
    "for x in sexes_all:\n",
    "        \n",
    "    if x == 'female':\n",
    "        sexes_all_recode.append(0)\n",
    "        female += 1\n",
    "    else: \n",
    "        sexes_all_recode.append(1)\n",
    "        male += 1\n",
    "            \n",
    "print(\"Total Males: \" + str(male), \"Total Females:\" + str(female))\n",
    "    \n",
    "#Translating smoker into nominal varible where no is 0 and yes is 1 and giving total counts\n",
    "smoker_all_recode = []\n",
    "smoker = 0\n",
    "non_smoker = 0\n",
    "for x in smoker_all:\n",
    "    if x == 'no':\n",
    "        sexes_all_recode.append(0)\n",
    "        non_smoker += 1\n",
    "    else: \n",
    "        sexes_all_recode.append(1)\n",
    "        smoker += 1\n",
    "print('Total smokers: ' + str(smoker), 'Total non-smokers: '+ str(non_smoker))\n",
    "                "
   ]
  },
  {
   "cell_type": "markdown",
   "metadata": {},
   "source": [
    "<h2>Finding Average Costs</h2>"
   ]
  },
  {
   "cell_type": "code",
   "execution_count": 3,
   "metadata": {},
   "outputs": [
    {
     "name": "stdout",
     "output_type": "stream",
     "text": [
      "The statistical mean of all respondent's charges is: 13270.422265141257\n"
     ]
    }
   ],
   "source": [
    "#Finding average cost for all respondents\n",
    "\n",
    "def average_charges(charges_list):            \n",
    "    stat_mean = sum(charges_list)/total_respondents\n",
    "    \n",
    "    return print('The statistical mean of all respondent\\'s charges is: ' + str(stat_mean))\n",
    "\n",
    "\n",
    "average_charges(charges_all)\n"
   ]
  },
  {
   "cell_type": "markdown",
   "metadata": {},
   "source": [
    "<h2>Correlation Function</h2>\n",
    "This function returns a statement indicating the strength and direction of the relationship and gives the correlation value. \n",
    "Formula used: https://www.thoughtco.com/how-to-calculate-the-correlation-coefficient-3126228"
   ]
  },
  {
   "cell_type": "code",
   "execution_count": 10,
   "metadata": {},
   "outputs": [
    {
     "name": "stdout",
     "output_type": "stream",
     "text": [
      "This is a weak positive relationship.\n",
      "The correlation coefficient is: 0.06799822684790513\n",
      "This is a weak positive relationship.\n",
      "The correlation coefficient is: 0.2990081933306468\n"
     ]
    }
   ],
   "source": [
    "def correlate(independent_var, dependent_var):\n",
    "    #Defining needed varibles\n",
    "    mean_x = sum(independent_var)/ len(independent_var)\n",
    "    mean_y = sum(dependent_var)/ len(dependent_var)\n",
    "    diff_means_lst_x = []\n",
    "    diff_means_lst_y = []\n",
    "    diff_means_sq_x = []\n",
    "    diff_means_sq_y = []\n",
    "    std_value_x = []\n",
    "    std_value_y = []\n",
    "    prod_std_value = []\n",
    "    \n",
    "    #Generating lists of differences of x and the mean of x both squared and non-squared\n",
    "    for x in independent_var: \n",
    "        diff_means_x = x - mean_x\n",
    "        diff_means_lst_x.append(diff_means_x)\n",
    "        diff_means_sq_x.append(diff_means_x**2)\n",
    "    \n",
    "    #Generating lists of differences of y and the mean of y both squared and non-squared \n",
    "    for y in dependent_var:\n",
    "        diff_means_y = y - mean_y\n",
    "        diff_means_lst_y.append(diff_means_y)\n",
    "        diff_means_sq_y.append(diff_means_y**2)\n",
    "    \n",
    "    #Finding the mean of the differences of values and the mean squared\n",
    "    mean_sq_diff_x = sum(diff_means_sq_x)/ (len(diff_means_sq_x)-1)\n",
    "    mean_sq_diff_y = sum(diff_means_sq_y)/ (len(diff_means_sq_y)-1)\n",
    "    \n",
    "    #Getting standard deviation\n",
    "    standard_dev_x = mean_sq_diff_x ** (1/2)\n",
    "    standard_dev_y = mean_sq_diff_y ** (1/2)\n",
    "    \n",
    "    #Covarience: creating tuples of the differences between the lists of x values and x mean and y values and y means\n",
    "    \n",
    "    for x_diff_means, y_diff_means in zip(diff_means_lst_x, diff_means_lst_y):\n",
    "       \n",
    "        std_value_x.append(x_diff_means / standard_dev_x)\n",
    "        std_value_y.append(y_diff_means / standard_dev_y)\n",
    "    \n",
    "    for x_cov, y_cov in zip(std_value_x, std_value_y):\n",
    "        prod_std_value.append(x_cov * y_cov)\n",
    "        \n",
    "        \n",
    "    #Defining correlation\n",
    "    correlation = sum(prod_std_value)/(len(prod_std_value)-1)\n",
    "    \n",
    "    #Print statement about the strength of the relationship\n",
    "    \n",
    "    if correlation == 1:\n",
    "        print('This is a perfect positive relationship.')\n",
    "    elif correlation == -1:\n",
    "        print('This is a perfect negative relationship')\n",
    "    elif correlation <= 0.70 and correlation > 0.50:\n",
    "        print('This is a strong positive relationship.')\n",
    "    elif correlation >= (0.70 * -1) and correlation < (0.50 * -1):\n",
    "        print('This is a strong negative relationship.')\n",
    "    elif correlation <= 0.50 and correlation > 0.30:\n",
    "        print('This is a moderate positive relationship.')\n",
    "    elif correlation >= -0.50 and correlation < -0.30:\n",
    "        print('This is a moderate negative relationship.')\n",
    "    elif correlation <= 0.30 and correlation > 0:\n",
    "        print('This is a weak positive relationship.')\n",
    "    elif correlation >= -0.30 and correlation < 0:\n",
    "        print('This is a weak positive relationship.')\n",
    "    else: print('There is no relationship.')\n",
    "    \n",
    "    return print('The correlation coefficient is: ' + str(correlation))\n",
    "    \n",
    "        \n",
    "correlate(children_all, charges_all)\n",
    "correlate(ages_all, charges_all)\n"
   ]
  }
 ],
 "metadata": {
  "kernelspec": {
   "display_name": "Python 3",
   "language": "python",
   "name": "python3"
  },
  "language_info": {
   "codemirror_mode": {
    "name": "ipython",
    "version": 3
   },
   "file_extension": ".py",
   "mimetype": "text/x-python",
   "name": "python",
   "nbconvert_exporter": "python",
   "pygments_lexer": "ipython3",
   "version": "3.9.1"
  }
 },
 "nbformat": 4,
 "nbformat_minor": 4
}
